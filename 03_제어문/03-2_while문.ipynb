{
 "cells": [
  {
   "cell_type": "code",
   "execution_count": 3,
   "metadata": {},
   "outputs": [
    {
     "name": "stdout",
     "output_type": "stream",
     "text": [
      "나무를 1번 찍었습니다\n",
      "나무를 2번 찍었습니다\n",
      "나무를 3번 찍었습니다\n",
      "나무를 4번 찍었습니다\n",
      "나무를 5번 찍었습니다\n",
      "나무를 6번 찍었습니다\n",
      "나무를 7번 찍었습니다\n",
      "나무를 8번 찍었습니다\n",
      "나무를 9번 찍었습니다\n",
      "나무를 10번 찍었습니다\n",
      "나무가 넘어갑니다\n",
      "종료\n"
     ]
    }
   ],
   "source": [
    "# while문의 기본 구조\n",
    "\n",
    "# while 조건문:\n",
    "#     수행할 문장1\n",
    "#     수행할 문장2\n",
    "#     수행할 문장3\n",
    "\n",
    "treeHit = 0\n",
    "while treeHit < 10:\n",
    "    # treeHit += 0\n",
    "    treeHit = treeHit + 1\n",
    "    print(f\"나무를 {treeHit}번 찍었습니다\")\n",
    "    if treeHit == 10:\n",
    "        print(\"나무가 넘어갑니다\")\n",
    "print(\"종료\")"
   ]
  },
  {
   "cell_type": "code",
   "execution_count": 6,
   "metadata": {},
   "outputs": [
    {
     "name": "stdout",
     "output_type": "stream",
     "text": [
      "\n",
      "1. Add\n",
      "2. Del\n",
      "3. List\n",
      "4. Quit\n",
      "\n",
      "Enter number:\n",
      "\n"
     ]
    }
   ],
   "source": [
    "# while문 만들기\n",
    "\n",
    "prompt = \"\"\"\n",
    "1. Add\n",
    "2. Del\n",
    "3. List\n",
    "4. Quit\n",
    "\n",
    "Enter number:\n",
    "\"\"\"\n",
    "\n",
    "number = 0\n",
    "while number != 4:\n",
    "    print(prompt)\n",
    "    number = int(input())"
   ]
  },
  {
   "cell_type": "code",
   "execution_count": 10,
   "metadata": {},
   "outputs": [
    {
     "name": "stdout",
     "output_type": "stream",
     "text": [
      "돈을 받았으니 커피를 줍니다\n",
      "남은 커피의 양은 3개 입니다\n",
      "돈을 받았으니 커피를 줍니다\n",
      "남은 커피의 양은 2개 입니다\n",
      "돈을 받았으니 커피를 줍니다\n",
      "남은 커피의 양은 1개 입니다\n",
      "돈을 받았으니 커피를 줍니다\n",
      "남은 커피의 양은 0개 입니다\n",
      "커피가 다 떨어졌습니다. 판매를 중지합니다.\n",
      "종료\n"
     ]
    }
   ],
   "source": [
    "# while문 강제로 빠져나가기 -> break\n",
    "\n",
    "coffee = 4\n",
    "money = 300\n",
    "\n",
    "while money: # 숫자 중에 0이 아닌것은 다 True\n",
    "    print(\"돈을 받았으니 커피를 줍니다\")\n",
    "    coffee = coffee - 1\n",
    "    print(f\"남은 커피의 양은 {coffee}개 입니다\")\n",
    "\n",
    "    if coffee == 0: \n",
    "        print(\"커피가 다 떨어졌습니다. 판매를 중지합니다.\")\n",
    "        break\n",
    "\n",
    "print(\"종료\")"
   ]
  },
  {
   "cell_type": "code",
   "execution_count": 13,
   "metadata": {},
   "outputs": [
    {
     "name": "stdout",
     "output_type": "stream",
     "text": [
      "커피를 줍니다\n",
      "거스름돈 200을 주고 커피를 줍니다\n",
      "돈을 다시 돌려주고, 커피를 주지 않습니다\n",
      "남은 커피의 양은 2개 입니다\n",
      "거스름돈 300을 주고 커피를 줍니다\n",
      "돈을 다시 돌려주고, 커피를 주지 않습니다\n",
      "남은 커피의 양은 1개 입니다\n",
      "돈을 다시 돌려주고, 커피를 주지 않습니다\n",
      "남은 커피의 양은 1개 입니다\n",
      "거스름돈 500을 주고 커피를 줍니다\n",
      "커피가 다 떨어졌습니다. 판매를 중지합니다\n"
     ]
    }
   ],
   "source": [
    "coffee = 4\n",
    "\n",
    "while True:\n",
    "    money = int(input(\"돈을 넣어 주세요\"))\n",
    "\n",
    "    if money == 300:\n",
    "        print(\"커피를 줍니다\")\n",
    "        coffee = coffee - 1\n",
    "        # coffee -= 1\n",
    "    elif money > 300:\n",
    "        print(f\"거스름돈 {money - 300}을 주고 커피를 줍니다\")\n",
    "        coffee = coffee - 1\n",
    "        # coffee -= 1\n",
    "    else:\n",
    "        print(\"돈을 다시 돌려주고, 커피를 주지 않습니다\")\n",
    "        print(f\"남은 커피의 양은 {coffee}개 입니다\")\n",
    "    if coffee == 0:\n",
    "        print(\"커피가 다 떨어졌습니다. 판매를 중지합니다\")\n",
    "        break"
   ]
  },
  {
   "cell_type": "code",
   "execution_count": 15,
   "metadata": {},
   "outputs": [
    {
     "name": "stdout",
     "output_type": "stream",
     "text": [
      "1\n",
      "3\n",
      "5\n",
      "7\n",
      "9\n"
     ]
    }
   ],
   "source": [
    "# while 문의 맨 처음으로 돌아가기 continue\n",
    "\n",
    "a = 0\n",
    "\n",
    "while a < 10:\n",
    "    # a += 1\n",
    "    a = a + 1\n",
    "    if a % 2 == 0:\n",
    "        continue\n",
    "    print(a)"
   ]
  },
  {
   "cell_type": "code",
   "execution_count": null,
   "metadata": {},
   "outputs": [],
   "source": []
  }
 ],
 "metadata": {
  "kernelspec": {
   "display_name": "Python 3",
   "language": "python",
   "name": "python3"
  },
  "language_info": {
   "codemirror_mode": {
    "name": "ipython",
    "version": 3
   },
   "file_extension": ".py",
   "mimetype": "text/x-python",
   "name": "python",
   "nbconvert_exporter": "python",
   "pygments_lexer": "ipython3",
   "version": "3.12.4"
  }
 },
 "nbformat": 4,
 "nbformat_minor": 2
}
