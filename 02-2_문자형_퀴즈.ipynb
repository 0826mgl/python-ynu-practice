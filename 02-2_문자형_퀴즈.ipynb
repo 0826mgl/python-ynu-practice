{
 "cells": [
  {
   "cell_type": "markdown",
   "metadata": {},
   "source": [
    "1. 사용자로부터 문자를 입력받아 문자의 길이를 출력하는 프로그램을 만드세요."
   ]
  },
  {
   "cell_type": "code",
   "execution_count": 22,
   "metadata": {},
   "outputs": [
    {
     "name": "stdout",
     "output_type": "stream",
     "text": [
      "9\n"
     ]
    }
   ],
   "source": [
    "a = input(\"문자를 입력해 주세요\")\n",
    "print(len(a))"
   ]
  },
  {
   "cell_type": "markdown",
   "metadata": {},
   "source": [
    "2. 사용자로부터 문자를 입력받아 첫 글자와 마지막 글자를 출력하는 프로그램을 만드세요. "
   ]
  },
  {
   "cell_type": "code",
   "execution_count": 23,
   "metadata": {},
   "outputs": [
    {
     "name": "stdout",
     "output_type": "stream",
     "text": [
      "민 록\n",
      "첫번째 입력한 문자는 :민, 마지막 입력한 문자는 :록\n"
     ]
    }
   ],
   "source": [
    "a = input(\"문자를 입력해 주세요\")\n",
    "\n",
    "print(a[0], a[-1])\n",
    "\n",
    "print(f\"첫번째 입력한 문자는 :{a[0]}, 마지막 입력한 문자는 :{a[-1]}\")"
   ]
  },
  {
   "cell_type": "markdown",
   "metadata": {},
   "source": [
    "3. 사용자가 입력한 반지름을 사용하여 원의 면적을 계사하는 프로그램을 만드세요(원의면적은: (3.14) * 반지름의 제곱)"
   ]
  },
  {
   "cell_type": "code",
   "execution_count": 30,
   "metadata": {},
   "outputs": [
    {
     "name": "stdout",
     "output_type": "stream",
     "text": [
      "78.5\n",
      "78.5\n",
      "반지름은 5이고, 원의 면적은 78.5입니다.\n"
     ]
    }
   ],
   "source": [
    "r = input(\"반지름 값을 입력해 주세요\")\n",
    "\n",
    "print(int(r) ** 2 * 3.14)\n",
    "\n",
    "print(3.14 * (int(r) ** 2))\n",
    "print(f\"반지름은 {int(r)}이고, 원의 면적은 {int(r) ** 2 * 3.14}입니다.\")\n"
   ]
  },
  {
   "cell_type": "markdown",
   "metadata": {},
   "source": [
    "4. 3번의 숫자를 입력을 받아 평균을 구하는 프로그램을 만드세요."
   ]
  },
  {
   "cell_type": "code",
   "execution_count": 31,
   "metadata": {},
   "outputs": [
    {
     "name": "stdout",
     "output_type": "stream",
     "text": [
      "20.0\n",
      "첫 번째 입력값은 10, 두 번째 입력값은 20, 세 번째 입력값은 30\n",
      "평균은 20.0\n"
     ]
    }
   ],
   "source": [
    "a = int(input(\"첫 번째 숫자를 입력해 주세요\"))\n",
    "b = int(input(\"두 번째 숫자를 입력해 주세요\"))\n",
    "c = int(input(\"세 번째 숫자를 입력해 주세요\"))\n",
    "\n",
    "print((a + b + c) / 3)\n",
    "\n",
    "print(f'첫 번째 입력값은 {a}, 두 번째 입력값은 {b}, 세 번째 입력값은 {c}\\n평균은 {(a + b + c)/3}')"
   ]
  },
  {
   "cell_type": "markdown",
   "metadata": {},
   "source": [
    "5. 아래 문자열에서 문자열 슬라이싱을 사용하여 '금메달'을 추출해 주세요\n",
    "* a = \"“잠자는 경기장의 공주” 낮잠 자고 일어나 금메달 딴 女선수 화제\""
   ]
  },
  {
   "cell_type": "code",
   "execution_count": 34,
   "metadata": {},
   "outputs": [
    {
     "name": "stdout",
     "output_type": "stream",
     "text": [
      "금메달\n"
     ]
    }
   ],
   "source": [
    "a = \"“잠자는 경기장의 공주” 낮잠 자고 일어나 금메달 딴 女선수 화제\"\n",
    "\n",
    "print(a[24:27])"
   ]
  },
  {
   "cell_type": "markdown",
   "metadata": {},
   "source": [
    "6. 5번 문제에서의 문자열 중 '공주'를 '왕자'로 바꿔주세요"
   ]
  },
  {
   "cell_type": "code",
   "execution_count": 36,
   "metadata": {},
   "outputs": [
    {
     "name": "stdout",
     "output_type": "stream",
     "text": [
      "“잠자는 경기장의 왕자” 낮잠 자고 일어나 금메달 딴 女선수 화제\n"
     ]
    }
   ],
   "source": [
    "a = \"“잠자는 경기장의 공주” 낮잠 자고 일어나 금메달 딴 女선수 화제\"\n",
    "\n",
    "print(a.replace(\"공주\", \"왕자\"))"
   ]
  },
  {
   "cell_type": "markdown",
   "metadata": {},
   "source": [
    "7. a = \"himzei@gmail.com\" 에서 find() 함수를 이용하여 'himzei'만 추출하세요 "
   ]
  },
  {
   "cell_type": "code",
   "execution_count": 42,
   "metadata": {},
   "outputs": [
    {
     "name": "stdout",
     "output_type": "stream",
     "text": [
      "himzei\n"
     ]
    }
   ],
   "source": [
    "a = \"himzei@gmail.com\"\n",
    "\n",
    "# num = a.find(\"@\")\n",
    "print(a[0:a.find(\"@\")])"
   ]
  },
  {
   "cell_type": "markdown",
   "metadata": {},
   "source": [
    "8. 이름, 취미, MBTI를 입력받아 변수에 담은 뒤, 출력하세요(3가지 문자열 출력방법 활용 ex)%s, format(), f\"\")"
   ]
  },
  {
   "cell_type": "code",
   "execution_count": 45,
   "metadata": {},
   "outputs": [
    {
     "name": "stdout",
     "output_type": "stream",
     "text": [
      "내 이름은 민경록입니다. 취미는 운동입니다. MBTI는 estp입니다.\n",
      "내 이름은 민경록입니다. 취미는 운동입니다. MBTI는 estp입니다.\n",
      "내 이름은 민경록입니다. 취미는 운동입니다. MBTI는 estp입니다.\n",
      "이름: 민경록, 취미: 운동, MBTI: estp\n",
      "이름: 민경록, 취미: 운동, MBTI: estp\n",
      "이름: 민경록, 취미: 운동, MBTI: estp\n"
     ]
    }
   ],
   "source": [
    "name = input(\"이름을 입력하세요\")\n",
    "hobby = input(\"취미를 입력하세요\")\n",
    "MBTI = input(\"MBTI를 입력하세요\")\n",
    "\n",
    "# 1\n",
    "print(\"내 이름은 %s입니다. 취미는 %s입니다. MBTI는 %s입니다.\" % (name, hobby, MBTI))\n",
    "# 2\n",
    "print(\"내 이름은 {0}입니다. 취미는 {1}입니다. MBTI는 {2}입니다.\".format(name, hobby, MBTI))\n",
    "# 3\n",
    "print(f\"내 이름은 {name}입니다. 취미는 {hobby}입니다. MBTI는 {MBTI}입니다.\")\n",
    "\n",
    "print(\"이름: %s, 취미: %s, MBTI: %s\" % (name, hobby, MBTI))\n",
    "print(\"이름: {0}, 취미: {1}, MBTI: {2}\".format(name, hobby, MBTI))\n",
    "print(f\"이름: {name}, 취미: {hobby}, MBTI: {MBTI}\")"
   ]
  },
  {
   "cell_type": "markdown",
   "metadata": {},
   "source": []
  }
 ],
 "metadata": {
  "kernelspec": {
   "display_name": "Python 3",
   "language": "python",
   "name": "python3"
  },
  "language_info": {
   "codemirror_mode": {
    "name": "ipython",
    "version": 3
   },
   "file_extension": ".py",
   "mimetype": "text/x-python",
   "name": "python",
   "nbconvert_exporter": "python",
   "pygments_lexer": "ipython3",
   "version": "3.12.4"
  }
 },
 "nbformat": 4,
 "nbformat_minor": 2
}
