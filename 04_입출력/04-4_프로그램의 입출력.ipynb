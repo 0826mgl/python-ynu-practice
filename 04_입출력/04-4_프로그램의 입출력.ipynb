{
 "cells": [
  {
   "cell_type": "markdown",
   "metadata": {},
   "source": [
    "# xyx 모듈 사용하기"
   ]
  },
  {
   "cell_type": "code",
   "execution_count": 1,
   "metadata": {},
   "outputs": [],
   "source": [
    "# sys 모듈 사용하기\n"
   ]
  },
  {
   "cell_type": "code",
   "execution_count": 2,
   "metadata": {},
   "outputs": [
    {
     "name": "stdout",
     "output_type": "stream",
     "text": [
      "--f=\"c:\\Users\\as4761285 001\\AppData\\Roaming\\jupyter\\runtime\\kernel-v2-7708l75bXCiOv4v5.json\"\n"
     ]
    }
   ],
   "source": [
    "import sys\n",
    "\n",
    "args = sys.argv[1:]\n",
    "for i in args:\n",
    "    print(i)"
   ]
  },
  {
   "cell_type": "code",
   "execution_count": 6,
   "metadata": {},
   "outputs": [],
   "source": [
    "# 프롬포트 변경\n",
    "\n",
    "import sys\n",
    "sys.ps1 = '안녕: '\n"
   ]
  },
  {
   "cell_type": "code",
   "execution_count": 8,
   "metadata": {},
   "outputs": [
    {
     "data": {
      "text/plain": [
       "'c:\\\\Users\\\\as4761285 001\\\\Desktop\\\\파이썬\\\\04_입출력'"
      ]
     },
     "execution_count": 8,
     "metadata": {},
     "output_type": "execute_result"
    }
   ],
   "source": [
    "# os 모듈\n",
    "\n",
    "import os\n",
    "\n",
    "# 현재 주소 생성(절대주소)\n",
    "os.getcwd()"
   ]
  },
  {
   "cell_type": "code",
   "execution_count": 10,
   "metadata": {},
   "outputs": [
    {
     "data": {
      "text/plain": [
       "['.새파일.txt',\n",
       " '04-1_함수.ipynb',\n",
       " '04-1_함수_퀴즈.ipynb',\n",
       " '04-2_사용자입출력.ipynb',\n",
       " '04-3_csv파일읽고쓰기.ipynb',\n",
       " '04-3_엑셀파일읽고쓰기.ipynb',\n",
       " '04-3_워드파일읽고쓰.ipynb',\n",
       " '04-3_파일읽고쓰기.ipynb',\n",
       " '04-4_프로그램의 입출력.ipynb',\n",
       " 'example.csv',\n",
       " 'example.docx',\n",
       " 'foo.txt',\n",
       " 'FY2019.csv',\n",
       " 'sys1.py',\n",
       " '새파일.txt',\n",
       " '서울.xlsx',\n",
       " '폴더']"
      ]
     },
     "execution_count": 10,
     "metadata": {},
     "output_type": "execute_result"
    }
   ],
   "source": [
    "os.listdir()"
   ]
  },
  {
   "cell_type": "code",
   "execution_count": 11,
   "metadata": {},
   "outputs": [
    {
     "data": {
      "text/plain": [
       "False"
      ]
     },
     "execution_count": 11,
     "metadata": {},
     "output_type": "execute_result"
    }
   ],
   "source": [
    "os.path.isdir(\"./폴더\")\n",
    "os.path.isdir('./sys1/.py')"
   ]
  },
  {
   "cell_type": "code",
   "execution_count": 15,
   "metadata": {},
   "outputs": [
    {
     "name": "stdout",
     "output_type": "stream",
     "text": [
      ".새파일.txt\n",
      "04-1_함수.ipynb\n",
      "04-1_함수_퀴즈.ipynb\n",
      "04-2_사용자입출력.ipynb\n",
      "04-3_csv파일읽고쓰기.ipynb\n",
      "04-3_엑셀파일읽고쓰기.ipynb\n",
      "04-3_워드파일읽고쓰.ipynb\n",
      "04-3_파일읽고쓰기.ipynb\n",
      "04-4_프로그램의 입출력.ipynb\n",
      "example.csv\n",
      "example.docx\n",
      "foo.txt\n",
      "FY2019.csv\n",
      "sys1.py\n",
      "새파일.txt\n",
      "서울.xlsx\n"
     ]
    }
   ],
   "source": [
    "data = os.listdir()\n",
    "# print(data)\n",
    "\n",
    "for item in data:\n",
    "    if os.path.isdir(item) !=True:\n",
    "        print(item)"
   ]
  },
  {
   "cell_type": "code",
   "execution_count": 16,
   "metadata": {},
   "outputs": [],
   "source": [
    "import os\n",
    "\n",
    "# 폴더를 만들 때\n",
    "os.makedirs('./영남대')"
   ]
  },
  {
   "cell_type": "code",
   "execution_count": 17,
   "metadata": {},
   "outputs": [
    {
     "data": {
      "text/plain": [
       "'./영남대\\\\그림.jpg'"
      ]
     },
     "execution_count": 17,
     "metadata": {},
     "output_type": "execute_result"
    }
   ],
   "source": [
    "import os\n",
    "\n",
    "os.path.join('./영남대', '그림.jpg')"
   ]
  },
  {
   "cell_type": "code",
   "execution_count": null,
   "metadata": {},
   "outputs": [],
   "source": []
  }
 ],
 "metadata": {
  "kernelspec": {
   "display_name": "Python 3",
   "language": "python",
   "name": "python3"
  },
  "language_info": {
   "codemirror_mode": {
    "name": "ipython",
    "version": 3
   },
   "file_extension": ".py",
   "mimetype": "text/x-python",
   "name": "python",
   "nbconvert_exporter": "python",
   "pygments_lexer": "ipython3",
   "version": "3.12.4"
  }
 },
 "nbformat": 4,
 "nbformat_minor": 2
}
