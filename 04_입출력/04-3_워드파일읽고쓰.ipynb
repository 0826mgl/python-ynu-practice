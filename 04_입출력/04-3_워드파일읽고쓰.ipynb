{
 "cells": [
  {
   "cell_type": "markdown",
   "metadata": {},
   "source": [
    "### 워드파일 다루기\n",
    "' https://wikidocs.net/216132\n",
    "' 설치: pip install python-docx"
   ]
  },
  {
   "cell_type": "code",
   "execution_count": 1,
   "metadata": {},
   "outputs": [
    {
     "name": "stdout",
     "output_type": "stream",
     "text": [
      "Collecting python-docx\n",
      "  Downloading python_docx-1.1.2-py3-none-any.whl.metadata (2.0 kB)\n",
      "Collecting lxml>=3.1.0 (from python-docx)\n",
      "  Downloading lxml-5.3.0-cp312-cp312-win_amd64.whl.metadata (3.9 kB)\n",
      "Collecting typing-extensions>=4.9.0 (from python-docx)\n",
      "  Downloading typing_extensions-4.12.2-py3-none-any.whl.metadata (3.0 kB)\n",
      "Downloading python_docx-1.1.2-py3-none-any.whl (244 kB)\n",
      "   ---------------------------------------- 0.0/244.3 kB ? eta -:--:--\n",
      "   ---------------------------------------- 0.0/244.3 kB ? eta -:--:--\n",
      "   ----- ---------------------------------- 30.7/244.3 kB 1.4 MB/s eta 0:00:01\n",
      "   -------------------------------------- - 235.5/244.3 kB 2.9 MB/s eta 0:00:01\n",
      "   ---------------------------------------- 244.3/244.3 kB 3.0 MB/s eta 0:00:00\n",
      "Downloading lxml-5.3.0-cp312-cp312-win_amd64.whl (3.8 MB)\n",
      "   ---------------------------------------- 0.0/3.8 MB ? eta -:--:--\n",
      "   ----- ---------------------------------- 0.5/3.8 MB 15.2 MB/s eta 0:00:01\n",
      "   ------------ --------------------------- 1.1/3.8 MB 14.6 MB/s eta 0:00:01\n",
      "   ------------------ --------------------- 1.8/3.8 MB 14.4 MB/s eta 0:00:01\n",
      "   ------------------------------- -------- 3.0/3.8 MB 17.4 MB/s eta 0:00:01\n",
      "   -------------------------------- ------- 3.1/3.8 MB 18.2 MB/s eta 0:00:01\n",
      "   -------------------------------- ------- 3.1/3.8 MB 18.2 MB/s eta 0:00:01\n",
      "   ---------------------------------------  3.8/3.8 MB 12.8 MB/s eta 0:00:01\n",
      "   ---------------------------------------- 3.8/3.8 MB 11.1 MB/s eta 0:00:00\n",
      "Downloading typing_extensions-4.12.2-py3-none-any.whl (37 kB)\n",
      "Installing collected packages: typing-extensions, lxml, python-docx\n",
      "Successfully installed lxml-5.3.0 python-docx-1.1.2 typing-extensions-4.12.2\n",
      "Note: you may need to restart the kernel to use updated packages.\n"
     ]
    },
    {
     "name": "stderr",
     "output_type": "stream",
     "text": [
      "\n",
      "[notice] A new release of pip is available: 24.0 -> 24.2\n",
      "[notice] To update, run: python.exe -m pip install --upgrade pip\n"
     ]
    }
   ],
   "source": [
    "pip install python-docx"
   ]
  },
  {
   "cell_type": "code",
   "execution_count": 3,
   "metadata": {},
   "outputs": [],
   "source": [
    "# from openpyxl import workbook (엑셀파일 쓰기)\n",
    "\n",
    "from docx import Document\n",
    "\n",
    "doc = Document()\n",
    "\n",
    "doc.save('./example.docx')"
   ]
  },
  {
   "cell_type": "code",
   "execution_count": 9,
   "metadata": {},
   "outputs": [],
   "source": [
    "from docx import Document\n",
    "from docx.enum.text import WD_ALIGN_PARAGRAPH\n",
    "\n",
    "doc = Document()\n",
    "\n",
    "title = doc.add_heading('제목을 이곳에 작성합니다', level=0)\n",
    "title.alignment = WD_ALIGN_PARAGRAPH.CENTER\n",
    "\n",
    "doc.add_heading('소제목을 작성합니다', level=2)\n",
    "\n",
    "# 테이블 만들기\n",
    "table = doc.add_table(rows=3, cols=3)\n",
    "table.style = \"Table Grid\"\n",
    "\n",
    "hdr_cells = table.rows[0].cells\n",
    "hdr_cells[0].text = \"헤더 1\"\n",
    "hdr_cells[1].text = \"헤더 2\"\n",
    "hdr_cells[2].text = \"헤더 3\"\n",
    "\n",
    "for i in range(1, 3):\n",
    "    row_cells = table.rows[i].cells\n",
    "    row_cells[0].text = f\"{i}행 1열\"\n",
    "    row_cells[1].text = f\"{i}행 2열\"\n",
    "    row_cells[2].text = f\"{i}행 3열\"\n",
    "\n",
    "doc.save('./example.docx')"
   ]
  },
  {
   "cell_type": "code",
   "execution_count": null,
   "metadata": {},
   "outputs": [],
   "source": []
  }
 ],
 "metadata": {
  "kernelspec": {
   "display_name": "Python 3",
   "language": "python",
   "name": "python3"
  },
  "language_info": {
   "codemirror_mode": {
    "name": "ipython",
    "version": 3
   },
   "file_extension": ".py",
   "mimetype": "text/x-python",
   "name": "python",
   "nbconvert_exporter": "python",
   "pygments_lexer": "ipython3",
   "version": "3.12.4"
  }
 },
 "nbformat": 4,
 "nbformat_minor": 2
}
