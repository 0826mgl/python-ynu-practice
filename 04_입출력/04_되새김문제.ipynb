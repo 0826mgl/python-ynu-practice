{
 "cells": [
  {
   "cell_type": "code",
   "execution_count": 16,
   "metadata": {},
   "outputs": [
    {
     "name": "stdout",
     "output_type": "stream",
     "text": [
      "True\n"
     ]
    }
   ],
   "source": [
    "# Q1. 홀수, 짝수 판별하기\n",
    "\n",
    "def is_odd(number):\n",
    "    if number % 2 == 1:\n",
    "        return True\n",
    "    else:\n",
    "        return False\n",
    "    \n",
    "result = is_odd(11)\n",
    "print(result)"
   ]
  },
  {
   "cell_type": "code",
   "execution_count": 18,
   "metadata": {},
   "outputs": [
    {
     "data": {
      "text/plain": [
       "15"
      ]
     },
     "execution_count": 18,
     "metadata": {},
     "output_type": "execute_result"
    }
   ],
   "source": [
    "# Q2. 모든 입력의 평균값 구하기\n",
    "\n",
    "def avg_numbers(*args):\n",
    "    result = 0\n",
    "    for i in args:\n",
    "        result += i\n",
    "    return result\n",
    "    \n",
    "avg_numbers(1, 2)\n",
    "avg_numbers(1, 2, 3, 4, 5)\n"
   ]
  },
  {
   "cell_type": "code",
   "execution_count": 3,
   "metadata": {},
   "outputs": [
    {
     "name": "stdout",
     "output_type": "stream",
     "text": [
      "두 수의 합은 9입니다\n"
     ]
    }
   ],
   "source": [
    "# Q3. 프로그램 오류 수정하기 1\n",
    "\n",
    "input1 = int(input(\"첫 번째 숫자를 입력하세요: \"))\n",
    "input2 = int(input(\"두 번째 숫자를 입력하세요: \"))\n",
    "\n",
    "total = input1 + input2\n",
    "print(f\"두 수의 합은 {total}입니다\")"
   ]
  },
  {
   "cell_type": "code",
   "execution_count": 9,
   "metadata": {},
   "outputs": [
    {
     "name": "stdout",
     "output_type": "stream",
     "text": [
      "youneedpython\n",
      "youneedpython\n",
      "you need python\n",
      "youneedpython\n"
     ]
    }
   ],
   "source": [
    "# Q4. 출력 결과가 다른 것은?\n",
    "\n",
    "print(\"you\" \"need\" \"python\")\n",
    "print(\"you\" + \"need\" + \"python\")\n",
    "print(\"you\", \"need\", \"python\")\n",
    "print(\"\".join([\"you\", \"need\", \"python\"]))"
   ]
  },
  {
   "cell_type": "code",
   "execution_count": 20,
   "metadata": {},
   "outputs": [
    {
     "name": "stdout",
     "output_type": "stream",
     "text": [
      "Life is too short\n"
     ]
    }
   ],
   "source": [
    "# Q5. 프로그램 오류 수정하기2\n",
    "\n",
    "f1 = open(\"./test.txt\", 'w')\n",
    "f1.write(\"Life is too short\")\n",
    "f1.close()\n",
    "\n",
    "f2 = open(\"test.txt\", 'r')\n",
    "print(f2.read())\n",
    "f2.close()"
   ]
  },
  {
   "cell_type": "code",
   "execution_count": 25,
   "metadata": {},
   "outputs": [],
   "source": [
    "# Q6. 사용자 입력 저장하기\n",
    "\n",
    "user_input = input(\"저장할 내용을 입력하세요: \")\n",
    "f = open('test.txt', 'a')\n",
    "f.write(user_input)\n",
    "f.write('\\n')\n",
    "f2.close()"
   ]
  },
  {
   "cell_type": "code",
   "execution_count": 26,
   "metadata": {},
   "outputs": [],
   "source": [
    "# Q7. 파일의 문자열 바꾸기\n",
    "\n",
    "f = open('test.txt', 'r')\n",
    "body = f.read()\n",
    "# print(type(body}))\n",
    "f.close()\n",
    "\n",
    "body = body.replace('java', 'python')\n",
    "f = open('test.txt', 'w')\n",
    "f.write(body)\n",
    "f.close()"
   ]
  },
  {
   "cell_type": "code",
   "execution_count": 29,
   "metadata": {},
   "outputs": [
    {
     "name": "stdout",
     "output_type": "stream",
     "text": [
      "['--f=\"c:\\\\Users\\\\as4761285 001\\\\AppData\\\\Roaming\\\\jupyter\\\\runtime\\\\kernel-v2-7708vPAlnwmm35bq.json\"']\n"
     ]
    },
    {
     "ename": "ValueError",
     "evalue": "invalid literal for int() with base 10: '--f=\"c:\\\\Users\\\\as4761285 001\\\\AppData\\\\Roaming\\\\jupyter\\\\runtime\\\\kernel-v2-7708vPAlnwmm35bq.json\"'",
     "output_type": "error",
     "traceback": [
      "\u001b[1;31m---------------------------------------------------------------------------\u001b[0m",
      "\u001b[1;31mValueError\u001b[0m                                Traceback (most recent call last)",
      "Cell \u001b[1;32mIn[29], line 11\u001b[0m\n\u001b[0;32m      8\u001b[0m result \u001b[38;5;241m=\u001b[39m \u001b[38;5;241m0\u001b[39m\n\u001b[0;32m      9\u001b[0m \u001b[38;5;28;01mfor\u001b[39;00m i \u001b[38;5;129;01min\u001b[39;00m args:\n\u001b[0;32m     10\u001b[0m     \u001b[38;5;66;03m# resutl += int(i)\u001b[39;00m\n\u001b[1;32m---> 11\u001b[0m     result \u001b[38;5;241m=\u001b[39m result \u001b[38;5;241m+\u001b[39m \u001b[38;5;28;43mint\u001b[39;49m\u001b[43m(\u001b[49m\u001b[43mi\u001b[49m\u001b[43m)\u001b[49m\n\u001b[0;32m     13\u001b[0m \u001b[38;5;28mprint\u001b[39m(result)\n",
      "\u001b[1;31mValueError\u001b[0m: invalid literal for int() with base 10: '--f=\"c:\\\\Users\\\\as4761285 001\\\\AppData\\\\Roaming\\\\jupyter\\\\runtime\\\\kernel-v2-7708vPAlnwmm35bq.json\"'"
     ]
    }
   ],
   "source": [
    "# Q8. 입력값을 모두 더해 출력하기\n",
    "\n",
    "import sys\n",
    "\n",
    "args = sys.argv[1:]\n",
    "print(args)\n",
    "\n",
    "result = 0\n",
    "for i in args:\n",
    "    # resutl += int(i)\n",
    "    result = result + int(i)\n",
    "\n",
    "print(result)\n"
   ]
  },
  {
   "cell_type": "code",
   "execution_count": null,
   "metadata": {},
   "outputs": [],
   "source": []
  }
 ],
 "metadata": {
  "kernelspec": {
   "display_name": "Python 3",
   "language": "python",
   "name": "python3"
  },
  "language_info": {
   "codemirror_mode": {
    "name": "ipython",
    "version": 3
   },
   "file_extension": ".py",
   "mimetype": "text/x-python",
   "name": "python",
   "nbconvert_exporter": "python",
   "pygments_lexer": "ipython3",
   "version": "3.12.4"
  }
 },
 "nbformat": 4,
 "nbformat_minor": 2
}
